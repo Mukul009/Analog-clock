{
  "nbformat": 4,
  "nbformat_minor": 0,
  "metadata": {
    "colab": {
      "name": "Resume Scanner.ipynb",
      "provenance": [],
      "collapsed_sections": [],
      "authorship_tag": "ABX9TyP4CuJfdfiVOQR1lUpl7G93",
      "include_colab_link": true
    },
    "kernelspec": {
      "name": "python3",
      "display_name": "Python 3"
    },
    "language_info": {
      "name": "python"
    }
  },
  "cells": [
    {
      "cell_type": "markdown",
      "metadata": {
        "id": "view-in-github",
        "colab_type": "text"
      },
      "source": [
        "<a href=\"https://colab.research.google.com/github/Mukul009/Analog-clock/blob/main/Resume_Scanner.ipynb\" target=\"_parent\"><img src=\"https://colab.research.google.com/assets/colab-badge.svg\" alt=\"Open In Colab\"/></a>"
      ]
    },
    {
      "cell_type": "code",
      "execution_count": 2,
      "metadata": {
        "colab": {
          "base_uri": "https://localhost:8080/"
        },
        "id": "Nk4uZx-G2PNS",
        "outputId": "cdfd877a-ac85-487d-d6e0-2ddea09c8a7c"
      },
      "outputs": [
        {
          "output_type": "stream",
          "name": "stdout",
          "text": [
            "Looking in indexes: https://pypi.org/simple, https://us-python.pkg.dev/colab-wheels/public/simple/\n",
            "Requirement already satisfied: docx2txt in /usr/local/lib/python3.7/dist-packages (0.8)\n"
          ]
        }
      ],
      "source": [
        "!pip install docx2txt\n",
        "import docx2txt"
      ]
    },
    {
      "cell_type": "code",
      "source": [
        "job_description = docx2txt.process('/content/job_des.docx')\n",
        "resume = docx2txt.process('/content/Mukul Khandelwal.docx')"
      ],
      "metadata": {
        "id": "TPfrHpeq2gId"
      },
      "execution_count": 4,
      "outputs": []
    },
    {
      "cell_type": "code",
      "source": [
        "print(resume)"
      ],
      "metadata": {
        "colab": {
          "base_uri": "https://localhost:8080/"
        },
        "id": "Uy-mMisC3Fo_",
        "outputId": "8adca55b-ecf3-479e-8eb6-56b649dc2d4a"
      },
      "execution_count": 5,
      "outputs": [
        {
          "output_type": "stream",
          "name": "stdout",
          "text": [
            "Mukul Khandelwal                 \n",
            "\n",
            "\n",
            "\n",
            "\n",
            "khandelwalmukul54@@gmail.com\n",
            "\n",
            "        +919425619501\n",
            "\n",
            "\n",
            "\n",
            "https://www.linkedin.com/in/mukul-khandelwal-810261202\n",
            "\n",
            "Technical Skills: Front End, C++, Java, ML.                \n",
            "\n",
            "Certification: Java Programming.\n",
            "\n",
            "\n",
            "\n",
            "EDUCATION\n",
            "\n",
            "Board\n",
            "\n",
            "Tenure\n",
            "\n",
            "Educational institution\n",
            "\n",
            "CGPA/Percentage\n",
            "\n",
            "B. Tech (CSE)\n",
            "\n",
            "September 2020 –Ongoing\n",
            "\n",
            "AMITY University, Gwalior\n",
            "\n",
            "7.67/10\n",
            "\n",
            "Class XII\n",
            "\n",
            "March 2020\n",
            "\n",
            "Siddharth School\n",
            "\n",
            "90%\n",
            "\n",
            "Class X\n",
            "\n",
            "March 2018\n",
            "\n",
            "Siddharth School\n",
            "\n",
            "90%\n",
            "\n",
            "\n",
            "\n",
            " PROJECTS\n",
            "\n",
            "\n",
            "\n",
            "    \n",
            "\n",
            "        Machine \n",
            "\n",
            "        Learning  \n",
            "\n",
            "\t\n",
            "\n",
            "\tDrug Classification by the help of Supervised Learning:\n",
            "\n",
            "\tUsed – Supervised Learning [Logistic Regression, Random Forest, Decision Tree, etc.]\n",
            "\n",
            "\t(https://github.com/Mukul009/Drug-Classification.git)\n",
            "\n",
            "\t\n",
            "\n",
            "\n",
            "\n",
            "\n",
            "\n",
            "        Machine \n",
            "\n",
            "        Learning  \n",
            "\n",
            "      \n",
            "\n",
            "\tClassification of Flowers (using Iris Dataset): \n",
            "\n",
            "\t\n",
            "\n",
            "\tUsed – Regression, Functions (like Sigmoid), SVM, Lasso and Ridge Algo., Random Forest, Decision Tree.  \n",
            "\n",
            "\t(https://github.com/Mukul009/IRIS.git)\n",
            "\n",
            "\n",
            "\n",
            "INTERNSHIP EXPERIENCE\n",
            "\n",
            "\n",
            "\n",
            "Thathastu DSA Scholar\n",
            "\n",
            "\n",
            "\n",
            "The assignment was to learn about data structure and implement it in real-life problems and coding platforms like LeetCode and Nados.  Reported to Mr. Achintya Gaumat, founder of Thathastu, Twowaits.\n",
            "\n",
            "\n",
            "\n",
            "EXTRA-CURRICULARS AND ACHIEVEMENTS\n",
            "\n",
            "\n",
            "\n",
            "Achievements\n",
            "\n",
            "\tOrganized an event “MEMEGRAM” in AMICHROMA 2022, \n",
            "\n",
            "\n",
            "\n",
            "Responsibilities\n",
            "\n",
            "\tSocial media coordinator of ASET\n",
            "\n",
            "Extracurricular\n",
            "\n",
            "\tCampus Ambassador @ Coding Ninjas, @EDUHUB, @Aasman Foundation\n",
            "\n",
            "\n",
            "\n",
            "ADDITIONAL INFORMATION\n",
            "\n",
            "\n",
            "\n",
            "Hobbies\n",
            "\n",
            "\tReading books, learning new things everyday, playing cricket.\n",
            "\n",
            "Languages\n",
            "\n",
            "\tEnglish, Hindi.\n",
            "\n",
            "\n",
            "\n",
            "REFERENCES\n",
            "\n",
            "\n",
            "\n",
            "\n",
            "\n",
            "\tAmrita Parashar (Assistant Professor, Amity) \n",
            "\n",
            "\t\n",
            "\n",
            "\tContact Number: 08878844486\n",
            "\n",
            "\n",
            "\n",
            "\tDr. Ashok Kumar Shrivastava (Assistant Professor, Amity)\n",
            "\n",
            "\tContact Number: 9755319747\n"
          ]
        }
      ]
    },
    {
      "cell_type": "code",
      "source": [
        "content = [job_description,resume] #listing"
      ],
      "metadata": {
        "id": "2JG2zciw3aCS"
      },
      "execution_count": 6,
      "outputs": []
    },
    {
      "cell_type": "code",
      "source": [
        "from sklearn.feature_extraction.text import CountVectorizer\n",
        "cv = CountVectorizer()\n",
        "matrix = cv.fit_transform(content)   #converting text into vectors"
      ],
      "metadata": {
        "id": "nZr3BZEn3jWf"
      },
      "execution_count": 7,
      "outputs": []
    },
    {
      "cell_type": "code",
      "source": [
        "from sklearn.metrics.pairwise import cosine_similarity\n",
        "similarity_matrix = cosine_similarity(matrix)\n",
        "print(similarity_matrix)"
      ],
      "metadata": {
        "colab": {
          "base_uri": "https://localhost:8080/"
        },
        "id": "b7pjuNwm39Zy",
        "outputId": "1e874a0a-4bec-4637-8f68-500629f21c15"
      },
      "execution_count": 8,
      "outputs": [
        {
          "output_type": "stream",
          "name": "stdout",
          "text": [
            "[[1.         0.23856114]\n",
            " [0.23856114 1.        ]]\n"
          ]
        }
      ]
    },
    {
      "cell_type": "code",
      "source": [
        "print('Resume matches by '+ str(similarity_matrix[1][0]*100)+'%')"
      ],
      "metadata": {
        "colab": {
          "base_uri": "https://localhost:8080/"
        },
        "id": "85faneXa4g2I",
        "outputId": "e1f11776-80ae-46b7-b32e-671a80b9933a"
      },
      "execution_count": 9,
      "outputs": [
        {
          "output_type": "stream",
          "name": "stdout",
          "text": [
            "Resume matches by 23.856114282496307%\n"
          ]
        }
      ]
    }
  ]
}